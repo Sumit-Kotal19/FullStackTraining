{
 "cells": [
  {
   "cell_type": "code",
   "execution_count": 52,
   "metadata": {},
   "outputs": [],
   "source": [
    "# player1 = input(\"Enter name for player 1\")\n",
    "\n",
    "# player2 = input(\"Enter name for player 2\") \n",
    "\n",
    "\n",
    "def drawBoard(board):\n",
    "    print('   |   |')\n",
    "    print('  ' + board[0] + ' |  ' + board[1] + ' | ' + board[2])\n",
    "    print('   |   |')\n",
    "    print('-----------')\n",
    "    print('   |   |')\n",
    "    print('  ' + board[3] + ' |  ' + board[4] + ' | ' + board[5])\n",
    "    print('   |   |')\n",
    "    print('-----------')\n",
    "    print('   |   |')\n",
    "    print('  ' + board[6] + ' |  ' + board[7] + ' | ' + board[8])\n",
    "    print('   |   |')\n",
    "    \n",
    "    \n",
    "def boardLogic(board):\n",
    "    if board[0].lower() == board[1].lower() == board[2].lower():\n",
    "        return board[0]\n",
    "    elif board[3].lower() == board[4].lower() == board[5].lower():\n",
    "        return board[3]\n",
    "    elif board[6].lower() == board[7].lower() == board[8].lower():\n",
    "        return board[6]\n",
    "    elif board[0].lower() == board[3].lower() == board[6].lower():\n",
    "        return board[0]\n",
    "    elif board[1].lower() == board[4].lower() == board[7].lower():\n",
    "        return board[1]\n",
    "    elif board[2].lower() == board[5].lower() == board[8].lower():\n",
    "        return board[2]\n",
    "    elif board[0].lower() == board[4].lower() == board[8].lower():\n",
    "        return board[0]\n",
    "    elif board[2].lower() == board[4].lower() == board[6].lower():\n",
    "        return board[2]\n",
    "    else:\n",
    "        return 'play'\n",
    "    \n",
    "    \n",
    "def selectBoard(board):\n",
    "    a = list()\n",
    "    elem = 0\n",
    "    while elem < len(board):\n",
    "        if board[elem].lower != 'x' or board[elem].lower != 'o':\n",
    "            a.append(elem + 1)\n",
    "        elem = elem + 1\n",
    "    return a\n",
    "    \n",
    "    \n",
    "def printWinner(win):\n",
    "    print(\"Player \"+win+\" wins\")\n",
    "    \n",
    "def checkBoard(a):\n",
    "    if a.lower() == \"x\":\n",
    "        printWinner(\"1\")\n",
    "    elif a.lower() == 'o':\n",
    "        printWinner(\"2\")\n",
    "    else:\n",
    "        return False\n",
    "    \n",
    "    \n",
    "def playerChance(a):\n",
    "    if a == 1:\n",
    "        return 2\n",
    "    else: return 1\n",
    "    \n",
    "def playerMove(move,player,board):\n",
    "    if player == 1:\n",
    "        board[move] = \"X\"\n",
    "        return board\n",
    "    else:\n",
    "        board[move] = \"O\"\n",
    "        return board\n",
    "        \n",
    "\n",
    "# mainBoard = [''] * 9"
   ]
  },
  {
   "cell_type": "code",
   "execution_count": 53,
   "metadata": {},
   "outputs": [
    {
     "name": "stdout",
     "output_type": "stream",
     "text": [
      "   |   |\n",
      "   |   | \n",
      "   |   |\n",
      "-----------\n",
      "   |   |\n",
      "   |   | \n",
      "   |   |\n",
      "-----------\n",
      "   |   |\n",
      "   |   | \n",
      "   |   |\n"
     ]
    }
   ],
   "source": [
    "player = 1\n",
    "mainBoard = [''] * 9\n",
    "len(mainBoard)\n",
    "drawBoard(mainBoard)\n",
    "selectBoard(mainBoard)\n",
    "player = playerChance(player)\n",
    "mainBoard = playerMove(3,1,mainBoard)\n",
    "\n",
    "\n"
   ]
  },
  {
   "cell_type": "code",
   "execution_count": 54,
   "metadata": {},
   "outputs": [
    {
     "name": "stdout",
     "output_type": "stream",
     "text": [
      "   |   |\n",
      "   |   | \n",
      "   |   |\n",
      "-----------\n",
      "   |   |\n",
      "  X |   | \n",
      "   |   |\n",
      "-----------\n",
      "   |   |\n",
      "   |   | \n",
      "   |   |\n"
     ]
    }
   ],
   "source": [
    "drawBoard(mainBoard)\n"
   ]
  },
  {
   "cell_type": "code",
   "execution_count": null,
   "metadata": {},
   "outputs": [],
   "source": []
  }
 ],
 "metadata": {
  "kernelspec": {
   "display_name": "Python 3",
   "language": "python",
   "name": "python3"
  },
  "language_info": {
   "codemirror_mode": {
    "name": "ipython",
    "version": 3
   },
   "file_extension": ".py",
   "mimetype": "text/x-python",
   "name": "python",
   "nbconvert_exporter": "python",
   "pygments_lexer": "ipython3",
   "version": "3.7.4"
  }
 },
 "nbformat": 4,
 "nbformat_minor": 2
}
