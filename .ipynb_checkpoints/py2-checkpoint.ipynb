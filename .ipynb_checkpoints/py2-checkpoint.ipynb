{
 "cells": [
  {
   "cell_type": "code",
   "execution_count": 1,
   "metadata": {},
   "outputs": [],
   "source": [
    "li = [1,2,5]"
   ]
  },
  {
   "cell_type": "code",
   "execution_count": 2,
   "metadata": {},
   "outputs": [],
   "source": [
    "li.insert(7,10)"
   ]
  },
  {
   "cell_type": "code",
   "execution_count": 3,
   "metadata": {},
   "outputs": [
    {
     "data": {
      "text/plain": [
       "[1, 2, 5, 10]"
      ]
     },
     "execution_count": 3,
     "metadata": {},
     "output_type": "execute_result"
    }
   ],
   "source": [
    "li"
   ]
  },
  {
   "cell_type": "code",
   "execution_count": 4,
   "metadata": {},
   "outputs": [
    {
     "data": {
      "text/plain": [
       "[1, 2, 5, 10, 1, 2, 5, 10, 1, 2, 5, 10]"
      ]
     },
     "execution_count": 4,
     "metadata": {},
     "output_type": "execute_result"
    }
   ],
   "source": [
    "li * 3"
   ]
  },
  {
   "cell_type": "code",
   "execution_count": null,
   "metadata": {},
   "outputs": [],
   "source": []
  },
  {
   "cell_type": "code",
   "execution_count": null,
   "metadata": {},
   "outputs": [],
   "source": []
  },
  {
   "cell_type": "code",
   "execution_count": null,
   "metadata": {},
   "outputs": [],
   "source": []
  },
  {
   "cell_type": "code",
   "execution_count": 5,
   "metadata": {},
   "outputs": [
    {
     "data": {
      "text/plain": [
       "{'1', 1}"
      ]
     },
     "execution_count": 5,
     "metadata": {},
     "output_type": "execute_result"
    }
   ],
   "source": [
    "s = set()\n",
    "s.add(1)\n",
    "s.add(\"1\")\n",
    "s.add('1')\n",
    "s"
   ]
  },
  {
   "cell_type": "code",
   "execution_count": 9,
   "metadata": {},
   "outputs": [],
   "source": [
    "dict1 = {'data':'123',\n",
    "        'science':'234',\n",
    "        'AI':'235'}"
   ]
  },
  {
   "cell_type": "code",
   "execution_count": 14,
   "metadata": {},
   "outputs": [
    {
     "name": "stdout",
     "output_type": "stream",
     "text": [
      "235\n",
      "123\n",
      "234\n"
     ]
    }
   ],
   "source": [
    "for key in sorted (dict1.keys()) :  \n",
    "     print(dict1[key]) \n",
    "    \n",
    "    "
   ]
  },
  {
   "cell_type": "code",
   "execution_count": null,
   "metadata": {},
   "outputs": [],
   "source": []
  },
  {
   "cell_type": "code",
   "execution_count": null,
   "metadata": {},
   "outputs": [],
   "source": []
  },
  {
   "cell_type": "code",
   "execution_count": null,
   "metadata": {},
   "outputs": [],
   "source": []
  },
  {
   "cell_type": "code",
   "execution_count": 20,
   "metadata": {},
   "outputs": [
    {
     "name": "stdout",
     "output_type": "stream",
     "text": [
      "{'id1': {'name': ['Sara'], 'class': ['V'], 'subject_integration': ['english, math, science']}, 'id2': {'name': ['David'], 'class': ['V'], 'subject_integration': ['english, math, science']}, 'id4': {'name': ['Surya'], 'class': ['V'], 'subject_integration': ['english, math, science']}}\n"
     ]
    }
   ],
   "source": [
    "student_data = {'id1':\n",
    "{'name': ['Sara'],\n",
    "'class': ['V'],\n",
    "'subject_integration': ['english, math, science']\n",
    "},\n",
    "'id2':\n",
    "{'name': ['David'],\n",
    "'class': ['V'],\n",
    "'subject_integration': ['english, math, science']\n",
    "},\n",
    "'id3':\n",
    "{'name': ['Sara'],\n",
    "'class': ['V'],\n",
    "'subject_integration': ['english, math, science']\n",
    "},\n",
    "'id4':\n",
    "{'name': ['Surya'],\n",
    "'class': ['V'],\n",
    "'subject_integration': ['english, math, science']\n",
    "},\n",
    "}\n",
    "\n",
    "\n",
    "answer = {}\n",
    "\n",
    "for k,v in student_data.items():\n",
    "    if v not in answer.values():\n",
    "        answer[k] = v\n",
    "\n",
    "print(answer)"
   ]
  },
  {
   "cell_type": "code",
   "execution_count": null,
   "metadata": {},
   "outputs": [],
   "source": []
  },
  {
   "cell_type": "code",
   "execution_count": null,
   "metadata": {},
   "outputs": [],
   "source": []
  },
  {
   "cell_type": "code",
   "execution_count": 31,
   "metadata": {},
   "outputs": [
    {
     "name": "stdout",
     "output_type": "stream",
     "text": [
      "{'a': 45, 'b': 101, 'c': 78, 'f': 78, 'd': 56, 'e': 23}\n"
     ]
    }
   ],
   "source": [
    "dict1 = {'a': 45, 'b': 34, 'c': 78, 'f': 78} \n",
    "dict2 = {'d': 56, 'e': 23, 'b': 67} \n",
    "  \n",
    "d3 = dict(dict1)\n",
    "\n",
    "d3.update(dict2) \n",
    "\n",
    "for i, j in dict1.items():\n",
    "\n",
    "    for x, y in dict2.items():\n",
    "\n",
    "        if i == x:\n",
    "\n",
    "            d3[i]=(j+y)\n",
    "\n",
    "print(d3)"
   ]
  },
  {
   "cell_type": "code",
   "execution_count": null,
   "metadata": {},
   "outputs": [],
   "source": []
  },
  {
   "cell_type": "code",
   "execution_count": null,
   "metadata": {},
   "outputs": [],
   "source": []
  },
  {
   "cell_type": "code",
   "execution_count": 39,
   "metadata": {},
   "outputs": [
    {
     "name": "stdout",
     "output_type": "stream",
     "text": [
      "prime\n"
     ]
    }
   ],
   "source": [
    "def is_prime(num):\n",
    "    for n in range(2,num):\n",
    "        if num % n == 0:\n",
    "            print('not prime')\n",
    "            break\n",
    "        else:\n",
    "            print('prime')\n",
    "            break\n",
    "            \n",
    "            \n",
    "is_prime(9)"
   ]
  },
  {
   "cell_type": "code",
   "execution_count": null,
   "metadata": {},
   "outputs": [],
   "source": []
  },
  {
   "cell_type": "code",
   "execution_count": null,
   "metadata": {},
   "outputs": [],
   "source": []
  },
  {
   "cell_type": "code",
   "execution_count": 46,
   "metadata": {},
   "outputs": [
    {
     "name": "stdout",
     "output_type": "stream",
     "text": [
      "1\n",
      "1\n",
      "2\n",
      "3\n",
      "5\n",
      "8\n",
      "13\n",
      "21\n",
      "34\n",
      "55\n"
     ]
    }
   ],
   "source": [
    "def fibo_gen(n):\n",
    "    a = 1\n",
    "    b = 1\n",
    "    for i in range(n):\n",
    "        yield a\n",
    "        a,b = b,a+b\n",
    "        \n",
    "        \n",
    "for num in fibo_gen(10):\n",
    "    print(num)"
   ]
  },
  {
   "cell_type": "code",
   "execution_count": null,
   "metadata": {},
   "outputs": [],
   "source": []
  },
  {
   "cell_type": "code",
   "execution_count": null,
   "metadata": {},
   "outputs": [],
   "source": []
  },
  {
   "cell_type": "code",
   "execution_count": null,
   "metadata": {},
   "outputs": [],
   "source": [
    "sssssssssssssssssssssssssssssssssssssssssssssssssssssssssssssssssssssssssssssssssssssssssssssssssss s s s s s s s s s s s s s s =s =s =s =s =s =s =s =s =s = s = s = s = s = s = s = s = s = s = s = s = s = s = s = s = s = s = s = s = s = s = s = s = s = s = s = s  s = s = s = s = s = s = s = s = s = s = s = s = s = s = s = s  s =s = s =  = s = s  s = s =s = s = s= s = s =s = s =  = s =  = s = s = s = s = s = s = s = s = s = s = s = s = s = s = s = s = s = s = s = s = s = s = s = s = s = s = s = s = s = s = s =======================================================================================================================================================================================================================================================================================================================================================================================================================================================================================================================================================================================================================================================m=m=mn=,mnc=bj,msnc=bj,msnc=bj,msnc=bj,msnc=bj,mq1[]\\snc=bja\n",
    "[]\\s¸nc=bja,mq1[]\\s¸nc=bja,mq1[]\\s¸nc=bja,mq1[]\\s¸ncEPW['=bja,mq1[]\\s¸]ncEPWAQ'========================================================================================================"
   ]
  },
  {
   "cell_type": "markdown",
   "metadata": {},
   "source": [
    "# ['=bja,mq1[]\\s¸]ncEPWAQ['=bja,mq1[]\\s¸]ncEPWAQ['=bja,mq1[]\\s¸]ncEPWAQ['=bja,mq1[]\\s¸]ncEPWAQ['=bja,mq1[]\\s¸]ncEPWAQ['=bja,mq1[]\\s¸]ncEPWAQ['=bja,mq1[]\\s¸]ncEPWAQ['=bja,mq1[]\\s¸]ncEPWAQ['=bja,mq1[]\\s¸]ncEPWAQ['=bja,mq1[]\\s¸]ncEPWAQ['=bja,mq1[]\\s¸]ncEPWAQ['=bja,mq1[]\\s¸]ncEPWAQ['=bja,mq1[]\\s¸]ncEPWAQ['=bja,mq1[]\\s¸]ncEPWAQ['=bja,mq1[]\\s¸]ncEPWAQ['=bja,mq']']']']']']']']']']']']']']']']"
   ]
  }
 ],
 "metadata": {
  "kernelspec": {
   "display_name": "Python 3",
   "language": "python",
   "name": "python3"
  },
  "language_info": {
   "codemirror_mode": {
    "name": "ipython",
    "version": 3
   },
   "file_extension": ".py",
   "mimetype": "text/x-python",
   "name": "python",
   "nbconvert_exporter": "python",
   "pygments_lexer": "ipython3",
   "version": "3.7.4"
  }
 },
 "nbformat": 4,
 "nbformat_minor": 2
}
